{
 "cells": [
  {
   "cell_type": "code",
   "execution_count": 1,
   "metadata": {},
   "outputs": [],
   "source": [
    "import pandas as pd"
   ]
  },
  {
   "cell_type": "code",
   "execution_count": 2,
   "metadata": {},
   "outputs": [
    {
     "data": {
      "text/html": [
       "<div>\n",
       "<style scoped>\n",
       "    .dataframe tbody tr th:only-of-type {\n",
       "        vertical-align: middle;\n",
       "    }\n",
       "\n",
       "    .dataframe tbody tr th {\n",
       "        vertical-align: top;\n",
       "    }\n",
       "\n",
       "    .dataframe thead th {\n",
       "        text-align: right;\n",
       "    }\n",
       "</style>\n",
       "<table border=\"1\" class=\"dataframe\">\n",
       "  <thead>\n",
       "    <tr style=\"text-align: right;\">\n",
       "      <th></th>\n",
       "      <th>DATE_TIME</th>\n",
       "      <th>LONGITUDE</th>\n",
       "      <th>LATITUDE</th>\n",
       "      <th>GEOHASH</th>\n",
       "      <th>MINIMUM_SPEED</th>\n",
       "      <th>MAXIMUM_SPEED</th>\n",
       "      <th>AVERAGE_SPEED</th>\n",
       "      <th>NUMBER_OF_VEHICLES</th>\n",
       "    </tr>\n",
       "  </thead>\n",
       "  <tbody>\n",
       "    <tr>\n",
       "      <th>0</th>\n",
       "      <td>2021-05-01 17:00:00</td>\n",
       "      <td>29.042358</td>\n",
       "      <td>41.113586</td>\n",
       "      <td>sxk9uu</td>\n",
       "      <td>7</td>\n",
       "      <td>102</td>\n",
       "      <td>44</td>\n",
       "      <td>40</td>\n",
       "    </tr>\n",
       "    <tr>\n",
       "      <th>1</th>\n",
       "      <td>2021-05-01 19:00:00</td>\n",
       "      <td>28.580933</td>\n",
       "      <td>41.201477</td>\n",
       "      <td>sxk66k</td>\n",
       "      <td>48</td>\n",
       "      <td>93</td>\n",
       "      <td>77</td>\n",
       "      <td>29</td>\n",
       "    </tr>\n",
       "    <tr>\n",
       "      <th>2</th>\n",
       "      <td>2021-05-03 19:00:00</td>\n",
       "      <td>28.987427</td>\n",
       "      <td>41.108093</td>\n",
       "      <td>sxk9ge</td>\n",
       "      <td>10</td>\n",
       "      <td>110</td>\n",
       "      <td>47</td>\n",
       "      <td>54</td>\n",
       "    </tr>\n",
       "    <tr>\n",
       "      <th>3</th>\n",
       "      <td>2021-05-03 07:00:00</td>\n",
       "      <td>28.383179</td>\n",
       "      <td>41.075134</td>\n",
       "      <td>sxk1tv</td>\n",
       "      <td>62</td>\n",
       "      <td>163</td>\n",
       "      <td>95</td>\n",
       "      <td>72</td>\n",
       "    </tr>\n",
       "    <tr>\n",
       "      <th>4</th>\n",
       "      <td>2021-05-02 16:00:00</td>\n",
       "      <td>28.778687</td>\n",
       "      <td>41.212463</td>\n",
       "      <td>sxk6qy</td>\n",
       "      <td>8</td>\n",
       "      <td>86</td>\n",
       "      <td>39</td>\n",
       "      <td>38</td>\n",
       "    </tr>\n",
       "    <tr>\n",
       "      <th>...</th>\n",
       "      <td>...</td>\n",
       "      <td>...</td>\n",
       "      <td>...</td>\n",
       "      <td>...</td>\n",
       "      <td>...</td>\n",
       "      <td>...</td>\n",
       "      <td>...</td>\n",
       "      <td>...</td>\n",
       "    </tr>\n",
       "    <tr>\n",
       "      <th>121210</th>\n",
       "      <td>2021-05-02 12:00:00</td>\n",
       "      <td>28.394165</td>\n",
       "      <td>41.069641</td>\n",
       "      <td>sxk1wh</td>\n",
       "      <td>55</td>\n",
       "      <td>136</td>\n",
       "      <td>85</td>\n",
       "      <td>50</td>\n",
       "    </tr>\n",
       "    <tr>\n",
       "      <th>121211</th>\n",
       "      <td>2021-05-03 05:00:00</td>\n",
       "      <td>28.756714</td>\n",
       "      <td>41.036682</td>\n",
       "      <td>sxk3qq</td>\n",
       "      <td>40</td>\n",
       "      <td>104</td>\n",
       "      <td>66</td>\n",
       "      <td>16</td>\n",
       "    </tr>\n",
       "    <tr>\n",
       "      <th>121212</th>\n",
       "      <td>2021-05-02 20:00:00</td>\n",
       "      <td>29.317017</td>\n",
       "      <td>40.954285</td>\n",
       "      <td>sxkbgp</td>\n",
       "      <td>6</td>\n",
       "      <td>100</td>\n",
       "      <td>34</td>\n",
       "      <td>17</td>\n",
       "    </tr>\n",
       "    <tr>\n",
       "      <th>121213</th>\n",
       "      <td>2021-05-03 18:00:00</td>\n",
       "      <td>28.844604</td>\n",
       "      <td>41.064148</td>\n",
       "      <td>sxk987</td>\n",
       "      <td>1</td>\n",
       "      <td>138</td>\n",
       "      <td>63</td>\n",
       "      <td>493</td>\n",
       "    </tr>\n",
       "    <tr>\n",
       "      <th>121214</th>\n",
       "      <td>2021-05-01 12:00:00</td>\n",
       "      <td>29.119263</td>\n",
       "      <td>41.058655</td>\n",
       "      <td>sxk9wd</td>\n",
       "      <td>24</td>\n",
       "      <td>163</td>\n",
       "      <td>94</td>\n",
       "      <td>219</td>\n",
       "    </tr>\n",
       "  </tbody>\n",
       "</table>\n",
       "<p>121215 rows × 8 columns</p>\n",
       "</div>"
      ],
      "text/plain": [
       "                  DATE_TIME  LONGITUDE   LATITUDE GEOHASH  MINIMUM_SPEED  \\\n",
       "0       2021-05-01 17:00:00  29.042358  41.113586  sxk9uu              7   \n",
       "1       2021-05-01 19:00:00  28.580933  41.201477  sxk66k             48   \n",
       "2       2021-05-03 19:00:00  28.987427  41.108093  sxk9ge             10   \n",
       "3       2021-05-03 07:00:00  28.383179  41.075134  sxk1tv             62   \n",
       "4       2021-05-02 16:00:00  28.778687  41.212463  sxk6qy              8   \n",
       "...                     ...        ...        ...     ...            ...   \n",
       "121210  2021-05-02 12:00:00  28.394165  41.069641  sxk1wh             55   \n",
       "121211  2021-05-03 05:00:00  28.756714  41.036682  sxk3qq             40   \n",
       "121212  2021-05-02 20:00:00  29.317017  40.954285  sxkbgp              6   \n",
       "121213  2021-05-03 18:00:00  28.844604  41.064148  sxk987              1   \n",
       "121214  2021-05-01 12:00:00  29.119263  41.058655  sxk9wd             24   \n",
       "\n",
       "        MAXIMUM_SPEED  AVERAGE_SPEED  NUMBER_OF_VEHICLES  \n",
       "0                 102             44                  40  \n",
       "1                  93             77                  29  \n",
       "2                 110             47                  54  \n",
       "3                 163             95                  72  \n",
       "4                  86             39                  38  \n",
       "...               ...            ...                 ...  \n",
       "121210            136             85                  50  \n",
       "121211            104             66                  16  \n",
       "121212            100             34                  17  \n",
       "121213            138             63                 493  \n",
       "121214            163             94                 219  \n",
       "\n",
       "[121215 rows x 8 columns]"
      ]
     },
     "execution_count": 2,
     "metadata": {},
     "output_type": "execute_result"
    }
   ],
   "source": [
    "pd.read_csv(\"https://data.ibb.gov.tr/dataset/3ee6d744-5da2-40c8-9cd6-0e3e41f1928f/resource/00d72836-d035-462d-a66e-408883216195/download/traffic_density_202105.csv\")"
   ]
  },
  {
   "cell_type": "code",
   "execution_count": 3,
   "metadata": {},
   "outputs": [],
   "source": [
    "from pathlib import Path"
   ]
  },
  {
   "cell_type": "code",
   "execution_count": 6,
   "metadata": {},
   "outputs": [
    {
     "data": {
      "text/plain": [
       "'apr'"
      ]
     },
     "execution_count": 6,
     "metadata": {},
     "output_type": "execute_result"
    }
   ],
   "source": [
    "Path(\"data/staging/traffic/apr.parquet\").stem"
   ]
  },
  {
   "cell_type": "code",
   "execution_count": 9,
   "metadata": {},
   "outputs": [],
   "source": [
    "from arrow.arrow import Arrow"
   ]
  },
  {
   "cell_type": "code",
   "execution_count": 14,
   "metadata": {},
   "outputs": [
    {
     "name": "stdout",
     "output_type": "stream",
     "text": [
      "2021-05-31T23:59:59.999999+03:00\n",
      "2021-04-30T23:59:59.999999+03:00\n",
      "2021-03-31T23:59:59.999999+03:00\n",
      "2021-02-28T23:59:59.999999+03:00\n",
      "2021-01-31T23:59:59.999999+03:00\n"
     ]
    }
   ],
   "source": [
    "for m in [5,4,3,2,1]:\n",
    "    day = Arrow(year=2021, month=m,day=1,tzinfo=\"Europe/Istanbul\")\n",
    "    print(day.ceil('month'))"
   ]
  },
  {
   "cell_type": "code",
   "execution_count": 15,
   "metadata": {},
   "outputs": [],
   "source": [
    "import pandas as pd"
   ]
  },
  {
   "cell_type": "code",
   "execution_count": 26,
   "metadata": {},
   "outputs": [
    {
     "name": "stderr",
     "output_type": "stream",
     "text": [
      "/var/folders/_n/w45vx51n55z0vt4_yy5t3p200000gn/T/ipykernel_38611/1074719771.py:1: FutureWarning: The default value of numeric_only in DataFrame.mean is deprecated. In a future version, it will default to False. In addition, specifying 'numeric_only=None' is deprecated. Select only valid columns or specify the value of numeric_only to silence this warning.\n",
      "  pd.read_parquet(\"data/staging/traffic/may.parquet\").mean()\n"
     ]
    },
    {
     "data": {
      "text/plain": [
       "LONGITUDE              28.877886\n",
       "LATITUDE               41.057497\n",
       "MINIMUM_SPEED          22.323170\n",
       "MAXIMUM_SPEED         110.737244\n",
       "AVERAGE_SPEED          60.228676\n",
       "NUMBER_OF_VEHICLES     72.151615\n",
       "dtype: float64"
      ]
     },
     "execution_count": 26,
     "metadata": {},
     "output_type": "execute_result"
    }
   ],
   "source": [
    "pd.read_parquet(\"data/staging/traffic/may.parquet\").mean()"
   ]
  },
  {
   "cell_type": "code",
   "execution_count": null,
   "metadata": {},
   "outputs": [],
   "source": []
  }
 ],
 "metadata": {
  "kernelspec": {
   "display_name": "Python 3.8.13",
   "language": "python",
   "name": "python3"
  },
  "language_info": {
   "codemirror_mode": {
    "name": "ipython",
    "version": 3
   },
   "file_extension": ".py",
   "mimetype": "text/x-python",
   "name": "python",
   "nbconvert_exporter": "python",
   "pygments_lexer": "ipython3",
   "version": "3.8.13"
  },
  "orig_nbformat": 4,
  "vscode": {
   "interpreter": {
    "hash": "2854a322fbd609b9a8dcd5de5b5ab87f22dbcd4c479f728c8212c13390cc84c7"
   }
  }
 },
 "nbformat": 4,
 "nbformat_minor": 2
}
