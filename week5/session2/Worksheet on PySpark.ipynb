{
 "cells": [
  {
   "cell_type": "code",
   "execution_count": 14,
   "metadata": {},
   "outputs": [
    {
     "name": "stdout",
     "output_type": "stream",
     "text": [
      "Requirement already satisfied: pyspark in /Users/husnusensoy/miniconda39/envs/python-training38/lib/python3.8/site-packages (3.3.1)\n",
      "Requirement already satisfied: py4j==0.10.9.5 in /Users/husnusensoy/miniconda39/envs/python-training38/lib/python3.8/site-packages (from pyspark) (0.10.9.5)\n",
      "Note: you may need to restart the kernel to use updated packages.\n"
     ]
    }
   ],
   "source": [
    "pip install pyspark"
   ]
  },
  {
   "cell_type": "code",
   "execution_count": 1,
   "metadata": {},
   "outputs": [],
   "source": [
    "from pyspark.sql import SparkSession"
   ]
  },
  {
   "cell_type": "code",
   "execution_count": 2,
   "metadata": {},
   "outputs": [
    {
     "name": "stdout",
     "output_type": "stream",
     "text": [
      "22/11/23 16:08:37 WARN Utils: Your hostname, Husnus-MacBook-Pro.local resolves to a loopback address: 127.0.0.1; using 172.20.10.3 instead (on interface en9)\n",
      "22/11/23 16:08:37 WARN Utils: Set SPARK_LOCAL_IP if you need to bind to another address\n"
     ]
    },
    {
     "name": "stderr",
     "output_type": "stream",
     "text": [
      "Setting default log level to \"WARN\".\n",
      "To adjust logging level use sc.setLogLevel(newLevel). For SparkR, use setLogLevel(newLevel).\n"
     ]
    },
    {
     "name": "stdout",
     "output_type": "stream",
     "text": [
      "22/11/23 16:08:38 WARN NativeCodeLoader: Unable to load native-hadoop library for your platform... using builtin-java classes where applicable\n"
     ]
    }
   ],
   "source": [
    "spark = SparkSession.builder\\\n",
    "    .master(\"local[*]\")\\\n",
    "        .appName(\"PySpark Tutorial 4 Session 2\")\\\n",
    "        .getOrCreate()"
   ]
  },
  {
   "cell_type": "code",
   "execution_count": 3,
   "metadata": {},
   "outputs": [],
   "source": [
    "stock_csv = \"../data/stocks_price_final.csv\""
   ]
  },
  {
   "cell_type": "code",
   "execution_count": 18,
   "metadata": {},
   "outputs": [
    {
     "name": "stderr",
     "output_type": "stream",
     "text": [
      "                                                                                \r"
     ]
    }
   ],
   "source": [
    "#import pandas as pd\n",
    "#pd.read_csv(stock_csv)\n",
    "\n",
    "df = spark.read.csv(stock_csv,header=True,inferSchema=True)"
   ]
  },
  {
   "cell_type": "code",
   "execution_count": 19,
   "metadata": {},
   "outputs": [
    {
     "name": "stdout",
     "output_type": "stream",
     "text": [
      "root\n",
      " |-- _c0: integer (nullable = true)\n",
      " |-- symbol: string (nullable = true)\n",
      " |-- date: timestamp (nullable = true)\n",
      " |-- open: string (nullable = true)\n",
      " |-- high: string (nullable = true)\n",
      " |-- low: string (nullable = true)\n",
      " |-- close: string (nullable = true)\n",
      " |-- volume: string (nullable = true)\n",
      " |-- adjusted: string (nullable = true)\n",
      " |-- market.cap: string (nullable = true)\n",
      " |-- sector: string (nullable = true)\n",
      " |-- industry: string (nullable = true)\n",
      " |-- exchange: string (nullable = true)\n",
      "\n"
     ]
    }
   ],
   "source": [
    "df.printSchema()"
   ]
  },
  {
   "cell_type": "code",
   "execution_count": 8,
   "metadata": {},
   "outputs": [],
   "source": [
    "from pyspark.sql.types import *"
   ]
  },
  {
   "cell_type": "code",
   "execution_count": 9,
   "metadata": {},
   "outputs": [],
   "source": [
    "data_schema = [\n",
    "    StructField(\"_c0\", IntegerType(), True),\n",
    "    StructField(\"symbol\",StringType(), True)\n",
    "    ,StructField(\"date\",DateType(), True)\n",
    "    ,StructField(\"open\",DoubleType(), True)    \n",
    "    ,StructField(\"high\",DoubleType(), True)    \n",
    "    ,StructField(\"low\",DoubleType(), True)    \n",
    "    ,StructField(\"close\",DoubleType(), True)        \n",
    "    ,StructField(\"volume\",IntegerType(), True)        \n",
    "    ,StructField(\"adjusted\",DoubleType(), True)            \n",
    "    ,StructField(\"market.cap\",StringType(), True)                \n",
    "    ,StructField(\"sector\",StringType(), True)                \n",
    "    ,StructField(\"industry\",StringType(), True)                    \n",
    "    ,StructField(\"exchange\",StringType(), True)                        \n",
    "]\n",
    "\n",
    "row_structu = StructType(fields=data_schema)"
   ]
  },
  {
   "cell_type": "code",
   "execution_count": 10,
   "metadata": {},
   "outputs": [],
   "source": [
    "#import pandas as pd\n",
    "#pd.read_csv(stock_csv)\n",
    "\n",
    "df = spark.read.csv(stock_csv,header=True, schema=row_structu)"
   ]
  },
  {
   "cell_type": "code",
   "execution_count": null,
   "metadata": {},
   "outputs": [
    {
     "name": "stdout",
     "output_type": "stream",
     "text": [
      "root\n",
      " |-- _c0: integer (nullable = true)\n",
      " |-- symbol: string (nullable = true)\n",
      " |-- date: date (nullable = true)\n",
      " |-- open: double (nullable = true)\n",
      " |-- high: double (nullable = true)\n",
      " |-- low: double (nullable = true)\n",
      " |-- close: double (nullable = true)\n",
      " |-- volume: integer (nullable = true)\n",
      " |-- adjusted: double (nullable = true)\n",
      " |-- market.cap: string (nullable = true)\n",
      " |-- sector: string (nullable = true)\n",
      " |-- industry: string (nullable = true)\n",
      " |-- exchange: string (nullable = true)\n",
      "\n"
     ]
    }
   ],
   "source": [
    "df.printSchema()"
   ]
  },
  {
   "cell_type": "code",
   "execution_count": 24,
   "metadata": {},
   "outputs": [
    {
     "name": "stdout",
     "output_type": "stream",
     "text": [
      "22/11/23 16:08:22 WARN CSVHeaderChecker: CSV header does not conform to the schema.\n",
      " Header: , symbol, date, open, high, low, close, volume, adjusted, market.cap, sector, industry, exchange\n",
      " Schema: _c0, symbol, date, open, high, low, close, volume, adjusted, market.cap, sector, industry, exchange\n",
      "Expected: _c0 but found: \n",
      "CSV file: file:///Users/husnusensoy/Documents/code/python-training-2910/week5/data/stocks_price_final.csv\n"
     ]
    },
    {
     "data": {
      "text/plain": [
       "[Row(_c0=1, symbol='TXG', date=datetime.date(2019, 9, 12), open=54.0, high=58.0, low=51.0, close=52.75, volume=7326300, adjusted=52.75, market.cap='$9.31B', sector='Capital Goods', industry='Biotechnology: Laboratory Analytical Instruments', exchange='NASDAQ'),\n",
       " Row(_c0=2, symbol='TXG', date=datetime.date(2019, 9, 13), open=52.75, high=54.355, low=49.150002, close=52.27, volume=1025200, adjusted=52.27, market.cap='$9.31B', sector='Capital Goods', industry='Biotechnology: Laboratory Analytical Instruments', exchange='NASDAQ'),\n",
       " Row(_c0=3, symbol='TXG', date=datetime.date(2019, 9, 16), open=52.450001, high=56.0, low=52.009998, close=55.200001, volume=269900, adjusted=55.200001, market.cap='$9.31B', sector='Capital Goods', industry='Biotechnology: Laboratory Analytical Instruments', exchange='NASDAQ')]"
      ]
     },
     "execution_count": 24,
     "metadata": {},
     "output_type": "execute_result"
    }
   ],
   "source": [
    "df.head(3)"
   ]
  },
  {
   "cell_type": "code",
   "execution_count": 25,
   "metadata": {},
   "outputs": [
    {
     "name": "stdout",
     "output_type": "stream",
     "text": [
      "22/11/23 16:08:23 WARN CSVHeaderChecker: CSV header does not conform to the schema.\n",
      " Header: , symbol, date, open, high, low, close, volume, adjusted, market.cap, sector, industry, exchange\n",
      " Schema: _c0, symbol, date, open, high, low, close, volume, adjusted, market.cap, sector, industry, exchange\n",
      "Expected: _c0 but found: \n",
      "CSV file: file:///Users/husnusensoy/Documents/code/python-training-2910/week5/data/stocks_price_final.csv\n"
     ]
    },
    {
     "data": {
      "text/plain": [
       "Row(_c0=1, symbol='TXG', date=datetime.date(2019, 9, 12), open=54.0, high=58.0, low=51.0, close=52.75, volume=7326300, adjusted=52.75, market.cap='$9.31B', sector='Capital Goods', industry='Biotechnology: Laboratory Analytical Instruments', exchange='NASDAQ')"
      ]
     },
     "execution_count": 25,
     "metadata": {},
     "output_type": "execute_result"
    }
   ],
   "source": [
    "df.first()"
   ]
  },
  {
   "cell_type": "code",
   "execution_count": 26,
   "metadata": {},
   "outputs": [
    {
     "name": "stdout",
     "output_type": "stream",
     "text": [
      "22/11/23 16:08:23 WARN CSVHeaderChecker: CSV header does not conform to the schema.\n",
      " Header: , symbol, date, open, high, low, close, volume, adjusted, market.cap, sector, industry, exchange\n",
      " Schema: _c0, symbol, date, open, high, low, close, volume, adjusted, market.cap, sector, industry, exchange\n",
      "Expected: _c0 but found: \n",
      "CSV file: file:///Users/husnusensoy/Documents/code/python-training-2910/week5/data/stocks_price_final.csv\n",
      "+---+------+----------+---------+---------+---------+---------+-------+---------+----------+-------------+--------------------+--------+\n",
      "|_c0|symbol|      date|     open|     high|      low|    close| volume| adjusted|market.cap|       sector|            industry|exchange|\n",
      "+---+------+----------+---------+---------+---------+---------+-------+---------+----------+-------------+--------------------+--------+\n",
      "|  1|   TXG|2019-09-12|     54.0|     58.0|     51.0|    52.75|7326300|    52.75|    $9.31B|Capital Goods|Biotechnology: La...|  NASDAQ|\n",
      "|  2|   TXG|2019-09-13|    52.75|   54.355|49.150002|    52.27|1025200|    52.27|    $9.31B|Capital Goods|Biotechnology: La...|  NASDAQ|\n",
      "|  3|   TXG|2019-09-16|52.450001|     56.0|52.009998|55.200001| 269900|55.200001|    $9.31B|Capital Goods|Biotechnology: La...|  NASDAQ|\n",
      "|  4|   TXG|2019-09-17|56.209999|60.900002|   55.423|56.779999| 602800|56.779999|    $9.31B|Capital Goods|Biotechnology: La...|  NASDAQ|\n",
      "|  5|   TXG|2019-09-18|56.849998|    62.27|55.650002|     62.0|1589600|     62.0|    $9.31B|Capital Goods|Biotechnology: La...|  NASDAQ|\n",
      "|  6|   TXG|2019-09-19|62.810001|   63.375|61.029999|61.119999| 425200|61.119999|    $9.31B|Capital Goods|Biotechnology: La...|  NASDAQ|\n",
      "|  7|   TXG|2019-09-20|61.709999|62.419998|    59.82|     60.5| 392000|     60.5|    $9.31B|Capital Goods|Biotechnology: La...|  NASDAQ|\n",
      "|  8|   TXG|2019-09-23|60.220001|61.485001|59.939999|60.330002| 137200|60.330002|    $9.31B|Capital Goods|Biotechnology: La...|  NASDAQ|\n",
      "|  9|   TXG|2019-09-24|     61.0|     61.0|     54.0|54.299999| 713800|54.299999|    $9.31B|Capital Goods|Biotechnology: La...|  NASDAQ|\n",
      "| 10|   TXG|2019-09-25|54.459999|55.880001|   52.563|52.759998| 261200|52.759998|    $9.31B|Capital Goods|Biotechnology: La...|  NASDAQ|\n",
      "| 11|   TXG|2019-09-26|52.779999|53.689999|46.619999|49.990002| 596300|49.990002|    $9.31B|Capital Goods|Biotechnology: La...|  NASDAQ|\n",
      "| 12|   TXG|2019-09-27|51.130001|     55.0|50.700001|51.029999| 621300|51.029999|    $9.31B|Capital Goods|Biotechnology: La...|  NASDAQ|\n",
      "| 13|   TXG|2019-09-30|51.049999|     52.0|    49.25|50.400002| 168900|50.400002|    $9.31B|Capital Goods|Biotechnology: La...|  NASDAQ|\n",
      "| 14|   TXG|2019-10-01|50.509998|51.919998|     46.0|47.029999| 536300|47.029999|    $9.31B|Capital Goods|Biotechnology: La...|  NASDAQ|\n",
      "| 15|   TXG|2019-10-02|46.779999|    47.23|45.110001|    46.07| 519600|    46.07|    $9.31B|Capital Goods|Biotechnology: La...|  NASDAQ|\n",
      "| 16|   TXG|2019-10-03|    46.77|48.240002|    45.75|48.119999| 703900|48.119999|    $9.31B|Capital Goods|Biotechnology: La...|  NASDAQ|\n",
      "| 17|   TXG|2019-10-04|     48.0|    53.34|    47.82|51.450001| 322400|51.450001|    $9.31B|Capital Goods|Biotechnology: La...|  NASDAQ|\n",
      "| 18|   TXG|2019-10-07|52.099998|53.220001|49.029999|50.360001| 476600|50.360001|    $9.31B|Capital Goods|Biotechnology: La...|  NASDAQ|\n",
      "| 19|   TXG|2019-10-08|     50.0|    51.27|     49.0|49.549999| 284100|49.549999|    $9.31B|Capital Goods|Biotechnology: La...|  NASDAQ|\n",
      "| 20|   TXG|2019-10-09|49.630001|51.525002|49.575001|50.009998| 201100|50.009998|    $9.31B|Capital Goods|Biotechnology: La...|  NASDAQ|\n",
      "+---+------+----------+---------+---------+---------+---------+-------+---------+----------+-------------+--------------------+--------+\n",
      "only showing top 20 rows\n",
      "\n"
     ]
    }
   ],
   "source": [
    "df.show()"
   ]
  },
  {
   "cell_type": "code",
   "execution_count": 27,
   "metadata": {},
   "outputs": [],
   "source": [
    "#select count(1) from (select * from large_table) foo\n",
    "\n",
    "#select count(1)  from large_table"
   ]
  },
  {
   "cell_type": "code",
   "execution_count": 28,
   "metadata": {},
   "outputs": [
    {
     "name": "stdout",
     "output_type": "stream",
     "text": [
      "22/11/23 16:08:25 WARN CSVHeaderChecker: CSV header does not conform to the schema.\n",
      " Header: , symbol, open, high, low, close, volume, adjusted, market.cap, sector, industry, exchange\n",
      " Schema: _c0, symbol, open, high, low, close, volume, adjusted, market.cap, sector, industry, exchange\n",
      "Expected: _c0 but found: \n",
      "CSV file: file:///Users/husnusensoy/Documents/code/python-training-2910/week5/data/stocks_price_final.csv\n"
     ]
    },
    {
     "name": "stderr",
     "output_type": "stream",
     "text": [
      "[Stage 8:>                                                        (0 + 12) / 12]\r"
     ]
    }
   ],
   "source": [
    "df.describe().show(vertical=True, truncate=False)"
   ]
  },
  {
   "cell_type": "code",
   "execution_count": null,
   "metadata": {},
   "outputs": [],
   "source": [
    "df.count()"
   ]
  },
  {
   "cell_type": "code",
   "execution_count": null,
   "metadata": {},
   "outputs": [],
   "source": [
    "df.distinct().count()"
   ]
  },
  {
   "cell_type": "code",
   "execution_count": null,
   "metadata": {},
   "outputs": [],
   "source": [
    "df.drop(\"_c0\").distinct().count()"
   ]
  },
  {
   "cell_type": "code",
   "execution_count": null,
   "metadata": {},
   "outputs": [],
   "source": [
    "df1 = df.drop(\"_c0\")"
   ]
  },
  {
   "cell_type": "code",
   "execution_count": null,
   "metadata": {},
   "outputs": [],
   "source": [
    "df1.show()"
   ]
  },
  {
   "cell_type": "code",
   "execution_count": null,
   "metadata": {},
   "outputs": [],
   "source": [
    "df.show()"
   ]
  },
  {
   "cell_type": "code",
   "execution_count": null,
   "metadata": {},
   "outputs": [],
   "source": [
    "df.withColumn(\"mid\", (df.high + df.low)/2)\\\n",
    "  .withColumn(\"is_drop\", df.open > df.close)\\\n",
    "  .withColumnRenamed(\"open\",\"open_price\")\\\n",
    "  .drop(\"sector\")\\\n",
    "    .head()"
   ]
  },
  {
   "cell_type": "code",
   "execution_count": null,
   "metadata": {},
   "outputs": [],
   "source": [
    "df.withColumnRenamed(\"market.cap\",\"market_cap\")\\\n",
    "    .na.drop().show()"
   ]
  },
  {
   "cell_type": "code",
   "execution_count": null,
   "metadata": {},
   "outputs": [],
   "source": [
    "df.withColumnRenamed(\"market.cap\",\"market_cap\")\\\n",
    "    .na.fill(0).show()"
   ]
  },
  {
   "cell_type": "code",
   "execution_count": null,
   "metadata": {},
   "outputs": [],
   "source": [
    "df.select(\"open\",\"close\",\"symbol\",\"date\").show()"
   ]
  },
  {
   "cell_type": "code",
   "execution_count": null,
   "metadata": {},
   "outputs": [],
   "source": [
    "df.select(\"open\",\"close\",\"symbol\",\"date\")\\\n",
    "    .filter( (df.high > 54) & (df.high < 61) ).show(n=3)"
   ]
  },
  {
   "cell_type": "code",
   "execution_count": null,
   "metadata": {},
   "outputs": [],
   "source": [
    "df.select(\"open\",\"close\",\"symbol\",\"date\")\\\n",
    "    .filter( df.high.between(55,60) ).show(n=3)"
   ]
  },
  {
   "cell_type": "code",
   "execution_count": null,
   "metadata": {},
   "outputs": [],
   "source": [
    "from pyspark.sql import functions as f\n",
    "\n",
    "df.select(\"open\"\n",
    ",\"close\"\n",
    ", f.when(df.close >= 61, 1).otherwise(0).alias(\"Some Condition Eval\") )\\\n",
    "    .show(n=5)"
   ]
  },
  {
   "cell_type": "code",
   "execution_count": null,
   "metadata": {},
   "outputs": [],
   "source": [
    "df.select(\"industry\"\n",
    ", df.industry.rlike('^[B,C]').alias(\"is_interesting\"))\\\n",
    "    .distinct()\\\n",
    "    .show(n=5)"
   ]
  },
  {
   "cell_type": "code",
   "execution_count": null,
   "metadata": {},
   "outputs": [],
   "source": [
    "df.groupBy(\"industry\")\\\n",
    "    .agg(\n",
    "        f.min(\"date\").alias(\"MinDate\")\n",
    "        , f.max(\"date\").alias(\"MaxDate\")\n",
    "        , f.min(\"open\").alias(\"MinOpen\")\n",
    "        , f.min(\"open\").alias(\"MaxOpen\")\n",
    "\n",
    "    )\\\n",
    "    .show(5)"
   ]
  },
  {
   "cell_type": "code",
   "execution_count": null,
   "metadata": {},
   "outputs": [],
   "source": [
    "all_cols_but_one = [c for c in df.columns if c not in ('industry', 'market.cap')]\n",
    "all_cols_but_one"
   ]
  },
  {
   "cell_type": "code",
   "execution_count": null,
   "metadata": {},
   "outputs": [],
   "source": [
    "from typing import List\n",
    "\n",
    "\n",
    "all_min = [f.min(c).alias(f\"Min{c.title()}\") for c in all_cols_but_one]\n",
    "all_max = [f.max(c).alias(f\"Max{c.title()}\") for c in all_cols_but_one]\n",
    "\n",
    "from typing import List\n",
    "def interleave(l1:List, l2:List) -> List:\n",
    "        result = []\n",
    "        for mn,mx in zip(all_min,all_max):\n",
    "                result.append(mn)\n",
    "                result.append(mx)\n",
    "\n",
    "        return result\n",
    "\n",
    "all_aggs = interleave(all_min, all_max)\n",
    "\n",
    "df.groupBy(\"industry\").agg(*all_aggs).show(vertical=True,n=1)"
   ]
  },
  {
   "cell_type": "code",
   "execution_count": null,
   "metadata": {},
   "outputs": [],
   "source": [
    "from itertools import groupby\n",
    "\n",
    "\n",
    "df.dtypes\n",
    "\n",
    "def cool_agg(df, groupby:str, exclude_columns:List[str]=[]):\n",
    "\n",
    "    aggs = []\n",
    "\n",
    "    for cn,ct in df.dtypes:\n",
    "        if cn == groupby or cn in exclude_columns:\n",
    "            continue\n",
    "        \n",
    "        aggs.append(f.min(cn).alias(f\"Min{cn.title()}\"))\n",
    "        aggs.append(f.max(cn).alias(f\"Max{cn.title()}\"))\n",
    "        \n",
    "        if ct in ('int','double'):\n",
    "            aggs.append(f.sum(cn).alias(f\"Sum{cn.title()}\"))\n",
    "            aggs.append(f.mean(cn).alias(f\"Mean{cn.title()}\"))\n",
    "            aggs.append(f.stddev(cn).alias(f\"Stddev{cn.title()}\"))\n",
    "\n",
    "    return df.groupBy(groupby).agg(*aggs)\n",
    "            \n"
   ]
  },
  {
   "cell_type": "code",
   "execution_count": null,
   "metadata": {},
   "outputs": [],
   "source": [
    "cool_agg(df, \"sector\",exclude_columns=['market.cap']).show(n=1,vertical=True)"
   ]
  },
  {
   "cell_type": "code",
   "execution_count": null,
   "metadata": {},
   "outputs": [],
   "source": [
    "df.select(\"industry\",\"open\",\"close\",\"adjusted\")\\\n",
    "    .groupBy(\"industry\") \\\n",
    "    .mean()\\\n",
    "    .show(5)"
   ]
  },
  {
   "cell_type": "code",
   "execution_count": 15,
   "metadata": {},
   "outputs": [
    {
     "name": "stderr",
     "output_type": "stream",
     "text": [
      "                                                                                \r"
     ]
    }
   ],
   "source": [
    "df_pandas = df.select(\"industry\", \"open\").filter(df.sector == 'Technology').sample(0.01).toPandas()"
   ]
  },
  {
   "cell_type": "code",
   "execution_count": 16,
   "metadata": {},
   "outputs": [
    {
     "data": {
      "text/html": [
       "<div>\n",
       "<style scoped>\n",
       "    .dataframe tbody tr th:only-of-type {\n",
       "        vertical-align: middle;\n",
       "    }\n",
       "\n",
       "    .dataframe tbody tr th {\n",
       "        vertical-align: top;\n",
       "    }\n",
       "\n",
       "    .dataframe thead th {\n",
       "        text-align: right;\n",
       "    }\n",
       "</style>\n",
       "<table border=\"1\" class=\"dataframe\">\n",
       "  <thead>\n",
       "    <tr style=\"text-align: right;\">\n",
       "      <th></th>\n",
       "      <th>industry</th>\n",
       "      <th>open</th>\n",
       "    </tr>\n",
       "  </thead>\n",
       "  <tbody>\n",
       "    <tr>\n",
       "      <th>0</th>\n",
       "      <td>Computer Software: Programming, Data Processing</td>\n",
       "      <td>7.93</td>\n",
       "    </tr>\n",
       "    <tr>\n",
       "      <th>1</th>\n",
       "      <td>Computer Software: Programming, Data Processing</td>\n",
       "      <td>7.59</td>\n",
       "    </tr>\n",
       "    <tr>\n",
       "      <th>2</th>\n",
       "      <td>Computer Software: Programming, Data Processing</td>\n",
       "      <td>8.26</td>\n",
       "    </tr>\n",
       "    <tr>\n",
       "      <th>3</th>\n",
       "      <td>Computer Software: Programming, Data Processing</td>\n",
       "      <td>12.00</td>\n",
       "    </tr>\n",
       "    <tr>\n",
       "      <th>4</th>\n",
       "      <td>Computer Software: Programming, Data Processing</td>\n",
       "      <td>15.77</td>\n",
       "    </tr>\n",
       "    <tr>\n",
       "      <th>...</th>\n",
       "      <td>...</td>\n",
       "      <td>...</td>\n",
       "    </tr>\n",
       "    <tr>\n",
       "      <th>2332</th>\n",
       "      <td>Computer Software: Prepackaged Software</td>\n",
       "      <td>14.55</td>\n",
       "    </tr>\n",
       "    <tr>\n",
       "      <th>2333</th>\n",
       "      <td>Computer Software: Prepackaged Software</td>\n",
       "      <td>14.47</td>\n",
       "    </tr>\n",
       "    <tr>\n",
       "      <th>2334</th>\n",
       "      <td>Computer Software: Prepackaged Software</td>\n",
       "      <td>14.35</td>\n",
       "    </tr>\n",
       "    <tr>\n",
       "      <th>2335</th>\n",
       "      <td>Computer Software: Prepackaged Software</td>\n",
       "      <td>10.61</td>\n",
       "    </tr>\n",
       "    <tr>\n",
       "      <th>2336</th>\n",
       "      <td>Computer Software: Prepackaged Software</td>\n",
       "      <td>11.20</td>\n",
       "    </tr>\n",
       "  </tbody>\n",
       "</table>\n",
       "<p>2337 rows × 2 columns</p>\n",
       "</div>"
      ],
      "text/plain": [
       "                                             industry   open\n",
       "0     Computer Software: Programming, Data Processing   7.93\n",
       "1     Computer Software: Programming, Data Processing   7.59\n",
       "2     Computer Software: Programming, Data Processing   8.26\n",
       "3     Computer Software: Programming, Data Processing  12.00\n",
       "4     Computer Software: Programming, Data Processing  15.77\n",
       "...                                               ...    ...\n",
       "2332          Computer Software: Prepackaged Software  14.55\n",
       "2333          Computer Software: Prepackaged Software  14.47\n",
       "2334          Computer Software: Prepackaged Software  14.35\n",
       "2335          Computer Software: Prepackaged Software  10.61\n",
       "2336          Computer Software: Prepackaged Software  11.20\n",
       "\n",
       "[2337 rows x 2 columns]"
      ]
     },
     "execution_count": 16,
     "metadata": {},
     "output_type": "execute_result"
    }
   ],
   "source": [
    "df_pandas"
   ]
  },
  {
   "cell_type": "code",
   "execution_count": 17,
   "metadata": {},
   "outputs": [
    {
     "data": {
      "text/plain": [
       "array([[<AxesSubplot: title={'center': 'Advertising'}>,\n",
       "        <AxesSubplot: title={'center': 'Computer Communications Equipment'}>,\n",
       "        <AxesSubplot: title={'center': 'Computer Manufacturing'}>,\n",
       "        <AxesSubplot: title={'center': 'Computer Software: Prepackaged Software'}>],\n",
       "       [<AxesSubplot: title={'center': 'Computer Software: Programming, Data Processing'}>,\n",
       "        <AxesSubplot: title={'center': 'Computer peripheral equipment'}>,\n",
       "        <AxesSubplot: title={'center': 'Diversified Commercial Services'}>,\n",
       "        <AxesSubplot: title={'center': 'EDP Services'}>],\n",
       "       [<AxesSubplot: title={'center': 'Electrical Products'}>,\n",
       "        <AxesSubplot: title={'center': 'Electronic Components'}>,\n",
       "        <AxesSubplot: title={'center': 'Industrial Machinery/Components'}>,\n",
       "        <AxesSubplot: title={'center': 'Professional Services'}>],\n",
       "       [<AxesSubplot: title={'center': 'Radio And Television Broadcasting And Communications Equipment'}>,\n",
       "        <AxesSubplot: title={'center': 'Retail: Computer Software & Peripheral Equipment'}>,\n",
       "        <AxesSubplot: title={'center': 'Semiconductors'}>,\n",
       "        <AxesSubplot: title={'center': 'Telecommunications Equipment'}>]],\n",
       "      dtype=object)"
      ]
     },
     "execution_count": 17,
     "metadata": {},
     "output_type": "execute_result"
    },
    {
     "data": {
      "image/png": "[encoded data removed]",
      "text/plain": [
       "<Figure size 640x480 with 16 Axes>"
      ]
     },
     "metadata": {},
     "output_type": "display_data"
    }
   ],
   "source": [
    "df_pandas.hist(\"open\",by=\"industry\")"
   ]
  },
  {
   "cell_type": "code",
   "execution_count": 19,
   "metadata": {},
   "outputs": [
    {
     "name": "stdout",
     "output_type": "stream",
     "text": [
      "\n",
      "select * from \n",
      "(select s.*\n",
      "    , row_number() over(partition by symbol order by date desc) as rn \n",
      " from stock s) where rn = 1;\n",
      "\n"
     ]
    }
   ],
   "source": [
    "sql = \"\"\"\n",
    "select * from \n",
    "(select s.*\n",
    "    , row_number() over(partition by symbol order by date desc) as rn \n",
    " from stock s) where rn = 1;\n",
    "\"\"\"\n",
    "\n",
    "print(sql)"
   ]
  },
  {
   "cell_type": "code",
   "execution_count": 20,
   "metadata": {},
   "outputs": [
    {
     "name": "stderr",
     "output_type": "stream",
     "text": [
      "/Users/husnusensoy/miniconda39/envs/python-training38/lib/python3.8/site-packages/pyspark/sql/dataframe.py:229: FutureWarning: Deprecated in 2.0, use createOrReplaceTempView instead.\n",
      "  warnings.warn(\"Deprecated in 2.0, use createOrReplaceTempView instead.\", FutureWarning)\n"
     ]
    }
   ],
   "source": [
    "df.registerTempTable(\"stock\")"
   ]
  },
  {
   "cell_type": "code",
   "execution_count": 26,
   "metadata": {},
   "outputs": [
    {
     "name": "stdout",
     "output_type": "stream",
     "text": [
      "22/11/23 16:16:37 WARN CSVHeaderChecker: CSV header does not conform to the schema.\n",
      " Header: , symbol, date, open, high, low, close, volume, adjusted, market.cap, sector, industry, exchange\n",
      " Schema: _c0, symbol, date, open, high, low, close, volume, adjusted, market.cap, sector, industry, exchange\n",
      "Expected: _c0 but found: \n",
      "CSV file: file:///Users/husnusensoy/Documents/code/python-training-2910/week5/data/stocks_price_final.csv\n"
     ]
    },
    {
     "name": "stderr",
     "output_type": "stream",
     "text": [
      "[Stage 19:=====================>                                   (5 + 8) / 13]\r"
     ]
    },
    {
     "name": "stdout",
     "output_type": "stream",
     "text": [
      "+-------+------+----------+----------+----------+----------+----------+--------+----------+----------+--------------------+--------------------+--------+\n",
      "|    _c0|symbol|      date|      open|      high|       low|     close|  volume|  adjusted|market.cap|              sector|            industry|exchange|\n",
      "+-------+------+----------+----------+----------+----------+----------+--------+----------+----------+--------------------+--------------------+--------+\n",
      "|1015730|     A|2020-07-22| 96.360001| 96.879997| 95.809998| 96.349998| 1313200| 96.349998|   $29.75B|       Capital Goods|Biotechnology: La...|    NYSE|\n",
      "|1019668|    AA|2020-07-22|     13.05|    13.385|      13.0|     13.07| 4857300|     13.07|    $2.43B|    Basic Industries|            Aluminum|    NYSE|\n",
      "|  93084|  AACG|2020-07-22|      1.29|      1.35|      1.17|      1.29|   38100|      1.29|   $40.94M|   Consumer Services|Other Consumer Se...|  NASDAQ|\n",
      "|  56544|   AAL|2020-07-22|     11.38|     11.67|      11.3|     11.36|42175500|     11.36|    $5.77B|      Transportation|Air Freight/Deliv...|  NASDAQ|\n",
      "|  94960|  AAME|2020-07-22|      1.81|      1.87|       1.8|      1.83|    3300|      1.83|    $37.4M|             Finance|      Life Insurance|  NASDAQ|\n",
      "|1004708|   AAN|2020-07-22| 43.240002| 44.669998| 43.009998|     44.43|  380100|     44.43|       $3B|          Technology|Diversified Comme...|    NYSE|\n",
      "|  75571|  AAOI|2020-07-22|     13.93|     15.13|     13.33|     14.39| 2532600|     14.39|  $292.69M|          Technology|      Semiconductors|  NASDAQ|\n",
      "|   6500|  AAON|2020-07-22| 57.529999| 59.110001| 57.529999| 58.110001|  147000| 58.110001|    $3.02B|       Capital Goods|Industrial Machin...|  NASDAQ|\n",
      "|1011418|   AAP|2020-07-22|146.899994|150.070007|146.899994|149.399994|  493800|149.399994|   $10.32B|   Consumer Services|Other Specialty S...|    NYSE|\n",
      "|  73970|  AAPL|2020-07-22|386.769989|391.899994|386.410004|389.089996|22215400|389.089996| $1686.45B|          Technology|Computer Manufact...|  NASDAQ|\n",
      "|1031502|   AAT|2020-07-22|     25.73|      26.4|     25.41| 26.190001|  179400| 26.190001|    $1.57B|   Consumer Services|Real Estate Inves...|    NYSE|\n",
      "|  96920|  AAWW|2020-07-22|      50.0| 50.310001|     49.07| 49.169998|  249200| 49.169998|    $1.28B|      Transportation|Transportation Se...|  NASDAQ|\n",
      "| 111088|  AAXN|2020-07-22| 91.629997| 93.059998| 88.230003| 89.120003|  836900| 89.120003|    $5.33B|       Capital Goods|Ordnance And Acce...|  NASDAQ|\n",
      "|1024305|    AB|2020-07-22|      28.9| 29.299999| 28.809999| 28.959999|  259500| 28.959999|    $2.83B|             Finance| Investment Managers|    NYSE|\n",
      "|1005100|   ABB|2020-07-22|     25.58|     26.48| 25.530001| 26.200001| 4932800| 26.200001|    $55.9B|   Consumer Durables| Electrical Products|    NYSE|\n",
      "|1005884|  ABBV|2020-07-22| 97.800003| 98.279999|     96.93| 97.699997| 4438500| 97.699997|  $172.18B|         Health Care|Major Pharmaceuti...|    NYSE|\n",
      "|1038686|   ABC|2020-07-22|103.849998|104.300003|102.620003|103.809998|  715300|103.809998|   $21.12B|         Health Care|Other Pharmaceuti...|    NYSE|\n",
      "|  61053|  ABCB|2020-07-22|     22.07| 22.620001|      22.0| 22.450001|  317200| 22.450001|    $1.56B|             Finance|         Major Banks|  NASDAQ|\n",
      "|   6892|  ABEO|2020-07-22|       3.0|      3.01|      2.91|      2.95|  392700|      2.95|  $246.91M|         Health Care|Major Pharmaceuti...|  NASDAQ|\n",
      "|1028758|  ABEV|2020-07-22|      2.91|      2.99|      2.87|       2.9|52349400|       2.9|   $45.63B|Consumer Non-Dura...|Beverages (Produc...|    NYSE|\n",
      "+-------+------+----------+----------+----------+----------+----------+--------+----------+----------+--------------------+--------------------+--------+\n",
      "only showing top 20 rows\n",
      "\n"
     ]
    },
    {
     "name": "stderr",
     "output_type": "stream",
     "text": [
      "                                                                                \r"
     ]
    }
   ],
   "source": [
    "spark.sql(\"\"\"\n",
    "select * from\n",
    "(select s.*\n",
    "    , row_number() over(partition by symbol order by date desc) as rn \n",
    " from stock s) where rn = 1 order by symbol\n",
    "\"\"\").drop(\"rn\").show()"
   ]
  },
  {
   "cell_type": "code",
   "execution_count": 28,
   "metadata": {},
   "outputs": [
    {
     "name": "stdout",
     "output_type": "stream",
     "text": [
      "22/11/23 16:18:56 WARN CSVHeaderChecker: CSV header does not conform to the schema.\n",
      " Header: , symbol, date, open, high, low, close, volume, adjusted, market.cap, sector, industry, exchange\n",
      " Schema: _c0, symbol, date, open, high, low, close, volume, adjusted, market.cap, sector, industry, exchange\n",
      "Expected: _c0 but found: \n",
      "CSV file: file:///Users/husnusensoy/Documents/code/python-training-2910/week5/data/stocks_price_final.csv\n",
      "+----+------+----------+----+----+----+-----+------+--------+----------+-------------+--------------------+--------+\n",
      "| _c0|symbol|      date|open|high| low|close|volume|adjusted|market.cap|       sector|            industry|exchange|\n",
      "+----+------+----------+----+----+----+-----+------+--------+----------+-------------+--------------------+--------+\n",
      "|4378|  KRKR|2020-05-11|null|null|null| null|  null|    null|  $130.48M|Miscellaneous|   Business Services|  NASDAQ|\n",
      "|5747|  NMTR|2020-01-23|null|null|null| null|  null|    null|   $54.96M|  Health Care|Major Pharmaceuti...|  NASDAQ|\n",
      "|5748|  NMTR|2020-01-24|null|null|null| null|  null|    null|   $54.96M|  Health Care|Major Pharmaceuti...|  NASDAQ|\n",
      "+----+------+----------+----+----+----+-----+------+--------+----------+-------------+--------------------+--------+\n",
      "only showing top 3 rows\n",
      "\n"
     ]
    }
   ],
   "source": [
    "spark.sql(\"\"\"\n",
    "select * from stock where open is null\n",
    "\"\"\").show(n=3)"
   ]
  },
  {
   "cell_type": "code",
   "execution_count": 29,
   "metadata": {},
   "outputs": [],
   "source": [
    "glb = spark.sql(\"select avg(open) as v from stock\")\n",
    "\n",
    "per_symbol = spark.sql(\"select symbol,avg(open) as v from stock group by 1\")"
   ]
  },
  {
   "cell_type": "code",
   "execution_count": 30,
   "metadata": {},
   "outputs": [
    {
     "name": "stderr",
     "output_type": "stream",
     "text": [
      "                                                                                \r"
     ]
    },
    {
     "data": {
      "text/plain": [
       "Row(v=15070.071703341047)"
      ]
     },
     "execution_count": 30,
     "metadata": {},
     "output_type": "execute_result"
    }
   ],
   "source": [
    "glb.head()"
   ]
  },
  {
   "cell_type": "code",
   "execution_count": 31,
   "metadata": {},
   "outputs": [
    {
     "name": "stderr",
     "output_type": "stream",
     "text": [
      "                                                                                \r"
     ]
    },
    {
     "data": {
      "text/plain": [
       "Row(symbol='ALXN', v=112.74596935459172)"
      ]
     },
     "execution_count": 31,
     "metadata": {},
     "output_type": "execute_result"
    }
   ],
   "source": [
    "per_symbol.head()"
   ]
  },
  {
   "cell_type": "code",
   "execution_count": 34,
   "metadata": {},
   "outputs": [
    {
     "name": "stderr",
     "output_type": "stream",
     "text": [
      "/Users/husnusensoy/miniconda39/envs/python-training38/lib/python3.8/site-packages/pyspark/sql/dataframe.py:229: FutureWarning: Deprecated in 2.0, use createOrReplaceTempView instead.\n",
      "  warnings.warn(\"Deprecated in 2.0, use createOrReplaceTempView instead.\", FutureWarning)\n"
     ]
    }
   ],
   "source": [
    "glb.registerTempTable(\"glb\")\n",
    "per_symbol.registerTempTable(\"per_symbol\")"
   ]
  },
  {
   "cell_type": "code",
   "execution_count": 36,
   "metadata": {},
   "outputs": [],
   "source": [
    "imputed = spark.sql(\"\"\"\n",
    "select s.*, (a.v + b.v)/2 as open_i from stock s join per_symbol a using(symbol)\n",
    "cross join glb b\n",
    "\"\"\"\n",
    ")"
   ]
  },
  {
   "cell_type": "code",
   "execution_count": 38,
   "metadata": {},
   "outputs": [
    {
     "name": "stdout",
     "output_type": "stream",
     "text": [
      "22/11/23 16:24:36 WARN CSVHeaderChecker: CSV header does not conform to the schema.\n",
      " Header: , symbol, date, open, high, low, close, volume, adjusted, market.cap, sector, industry, exchange\n",
      " Schema: _c0, symbol, date, open, high, low, close, volume, adjusted, market.cap, sector, industry, exchange\n",
      "Expected: _c0 but found: \n",
      "CSV file: file:///Users/husnusensoy/Documents/code/python-training-2910/week5/data/stocks_price_final.csv\n"
     ]
    },
    {
     "name": "stderr",
     "output_type": "stream",
     "text": [
      "                                                                                \r"
     ]
    },
    {
     "name": "stdout",
     "output_type": "stream",
     "text": [
      "+------+------+----------+----+----+----+-----+------+--------+----------+-----------------+--------------------+--------+-----------------+\n",
      "|symbol|   _c0|      date|open|high| low|close|volume|adjusted|market.cap|           sector|            industry|exchange|           open_i|\n",
      "+------+------+----------+----+----+----+-----+------+--------+----------+-----------------+--------------------+--------+-----------------+\n",
      "|  ATCX| 97436|2020-02-14|null|null|null| null|  null|    null|   $46.48M|Consumer Services|Professional Serv...|  NASDAQ|7539.717430374228|\n",
      "|  ATCX| 97435|2020-02-13|null|null|null| null|  null|    null|   $46.48M|Consumer Services|Professional Serv...|  NASDAQ|7539.717430374228|\n",
      "|  ATCX| 97434|2020-02-12|null|null|null| null|  null|    null|   $46.48M|Consumer Services|Professional Serv...|  NASDAQ|7539.717430374228|\n",
      "|  ATCX| 97433|2020-02-11|null|null|null| null|  null|    null|   $46.48M|Consumer Services|Professional Serv...|  NASDAQ|7539.717430374228|\n",
      "|  ATCX| 97432|2020-02-10|null|null|null| null|  null|    null|   $46.48M|Consumer Services|Professional Serv...|  NASDAQ|7539.717430374228|\n",
      "|  ATCX| 97431|2020-02-07|null|null|null| null|  null|    null|   $46.48M|Consumer Services|Professional Serv...|  NASDAQ|7539.717430374228|\n",
      "|  ATCX| 97430|2020-02-06|null|null|null| null|  null|    null|   $46.48M|Consumer Services|Professional Serv...|  NASDAQ|7539.717430374228|\n",
      "|  ATCX| 97429|2020-02-05|null|null|null| null|  null|    null|   $46.48M|Consumer Services|Professional Serv...|  NASDAQ|7539.717430374228|\n",
      "|  ATCX| 97428|2020-02-04|null|null|null| null|  null|    null|   $46.48M|Consumer Services|Professional Serv...|  NASDAQ|7539.717430374228|\n",
      "|  ATCX| 97427|2020-02-03|null|null|null| null|  null|    null|   $46.48M|Consumer Services|Professional Serv...|  NASDAQ|7539.717430374228|\n",
      "|  ATCX| 97426|2020-01-31|null|null|null| null|  null|    null|   $46.48M|Consumer Services|Professional Serv...|  NASDAQ|7539.717430374228|\n",
      "|  ATCX| 97425|2020-01-30|null|null|null| null|  null|    null|   $46.48M|Consumer Services|Professional Serv...|  NASDAQ|7539.717430374228|\n",
      "|  ATCX| 97424|2020-01-29|null|null|null| null|  null|    null|   $46.48M|Consumer Services|Professional Serv...|  NASDAQ|7539.717430374228|\n",
      "|  ATCX| 97423|2020-01-28|null|null|null| null|  null|    null|   $46.48M|Consumer Services|Professional Serv...|  NASDAQ|7539.717430374228|\n",
      "|  ATCX| 97422|2020-01-27|null|null|null| null|  null|    null|   $46.48M|Consumer Services|Professional Serv...|  NASDAQ|7539.717430374228|\n",
      "|  ATCX| 97421|2020-01-24|null|null|null| null|  null|    null|   $46.48M|Consumer Services|Professional Serv...|  NASDAQ|7539.717430374228|\n",
      "|  ATCX| 97420|2020-01-23|null|null|null| null|  null|    null|   $46.48M|Consumer Services|Professional Serv...|  NASDAQ|7539.717430374228|\n",
      "|  BWMX|129415|2020-03-16|null|null|null| null|  null|    null|  $316.95M|Consumer Services|Catalog/Specialty...|  NASDAQ|7539.705164170524|\n",
      "|  BWMX|129414|2020-03-13|null|null|null| null|  null|    null|  $316.95M|Consumer Services|Catalog/Specialty...|  NASDAQ|7539.705164170524|\n",
      "|  BWMX|129413|2020-03-12|null|null|null| null|  null|    null|  $316.95M|Consumer Services|Catalog/Specialty...|  NASDAQ|7539.705164170524|\n",
      "+------+------+----------+----+----+----+-----+------+--------+----------+-----------------+--------------------+--------+-----------------+\n",
      "only showing top 20 rows\n",
      "\n"
     ]
    }
   ],
   "source": [
    "imputed.filter(imputed.open.isNull()).show()"
   ]
  },
  {
   "cell_type": "code",
   "execution_count": 41,
   "metadata": {},
   "outputs": [],
   "source": [
    "instances = spark.sql(\"\"\"select symbol\n",
    ", date as tick_date\n",
    ", open\n",
    ", _c0 as id\n",
    ", lag(open,1) over(partition by symbol order by date) as open_1\n",
    ", lag(open,2) over(partition by symbol order by date) as open_2\n",
    ", lag(open,3) over(partition by symbol order by date) as open_3\n",
    ", lag(open,4) over(partition by symbol order by date) as open_4\n",
    "\n",
    "from stock\n",
    "\"\"\").na.drop()"
   ]
  },
  {
   "cell_type": "code",
   "execution_count": 43,
   "metadata": {},
   "outputs": [
    {
     "name": "stdout",
     "output_type": "stream",
     "text": [
      "22/11/23 16:30:45 WARN CSVHeaderChecker: CSV header does not conform to the schema.\n",
      " Header: , symbol, date, open\n",
      " Schema: _c0, symbol, date, open\n",
      "Expected: _c0 but found: \n",
      "CSV file: file:///Users/husnusensoy/Documents/code/python-training-2910/week5/data/stocks_price_final.csv\n"
     ]
    },
    {
     "name": "stderr",
     "output_type": "stream",
     "text": [
      "[Stage 52:=========>                                              (2 + 10) / 12]\r"
     ]
    },
    {
     "name": "stdout",
     "output_type": "stream",
     "text": [
      "+------+----------+---------+-------+---------+---------+---------+---------+\n",
      "|symbol| tick_date|     open|     id|   open_1|   open_2|   open_3|   open_4|\n",
      "+------+----------+---------+-------+---------+---------+---------+---------+\n",
      "|    AA|2019-01-08|    28.73|1019281|28.530001|    26.84|26.120001|   25.955|\n",
      "|    AA|2019-01-09|     28.6|1019282|    28.73|28.530001|    26.84|26.120001|\n",
      "|    AA|2019-01-10|28.690001|1019283|     28.6|    28.73|28.530001|    26.84|\n",
      "|    AA|2019-01-11|28.719999|1019284|28.690001|     28.6|    28.73|28.530001|\n",
      "|    AA|2019-01-14|29.059999|1019285|28.719999|28.690001|     28.6|    28.73|\n",
      "|    AA|2019-01-15|28.940001|1019286|29.059999|28.719999|28.690001|     28.6|\n",
      "|    AA|2019-01-16|29.190001|1019287|28.940001|29.059999|28.719999|28.690001|\n",
      "|    AA|2019-01-17|28.209999|1019288|29.190001|28.940001|29.059999|28.719999|\n",
      "|    AA|2019-01-18|    29.92|1019289|28.209999|29.190001|28.940001|29.059999|\n",
      "|    AA|2019-01-22|     29.0|1019290|    29.92|28.209999|29.190001|28.940001|\n",
      "|    AA|2019-01-23|    28.15|1019291|     29.0|    29.92|28.209999|29.190001|\n",
      "|    AA|2019-01-24|    28.15|1019292|    28.15|     29.0|    29.92|28.209999|\n",
      "|    AA|2019-01-25|    28.42|1019293|    28.15|    28.15|     29.0|    29.92|\n",
      "|    AA|2019-01-28|    28.74|1019294|    28.42|    28.15|    28.15|     29.0|\n",
      "|    AA|2019-01-29|    28.27|1019295|    28.74|    28.42|    28.15|    28.15|\n",
      "|    AA|2019-01-30|     29.1|1019296|    28.27|    28.74|    28.42|    28.15|\n",
      "|    AA|2019-01-31|29.280001|1019297|     29.1|    28.27|    28.74|    28.42|\n",
      "|    AA|2019-02-01|29.700001|1019298|29.280001|     29.1|    28.27|    28.74|\n",
      "|    AA|2019-02-04|    28.43|1019299|29.700001|29.280001|     29.1|    28.27|\n",
      "|    AA|2019-02-05|     29.0|1019300|    28.43|29.700001|29.280001|     29.1|\n",
      "+------+----------+---------+-------+---------+---------+---------+---------+\n",
      "only showing top 20 rows\n",
      "\n"
     ]
    },
    {
     "name": "stderr",
     "output_type": "stream",
     "text": [
      "                                                                                \r"
     ]
    }
   ],
   "source": [
    "instances.show()"
   ]
  },
  {
   "cell_type": "code",
   "execution_count": 44,
   "metadata": {},
   "outputs": [],
   "source": [
    "training = instances.filter(instances.tick_date < '2020-07-01')\n",
    "test = instances.filter(instances.tick_date > '2020-07-01')"
   ]
  },
  {
   "cell_type": "code",
   "execution_count": 45,
   "metadata": {},
   "outputs": [
    {
     "name": "stdout",
     "output_type": "stream",
     "text": [
      "22/11/23 16:31:30 WARN CSVHeaderChecker: CSV header does not conform to the schema.\n",
      " Header: , symbol, date, open\n",
      " Schema: _c0, symbol, date, open\n",
      "Expected: _c0 but found: \n",
      "CSV file: file:///Users/husnusensoy/Documents/code/python-training-2910/week5/data/stocks_price_final.csv\n"
     ]
    },
    {
     "name": "stderr",
     "output_type": "stream",
     "text": [
      "[Stage 55:====>                                                   (1 + 11) / 12]\r"
     ]
    },
    {
     "name": "stdout",
     "output_type": "stream",
     "text": [
      "+------+----------+---------+-------+---------+---------+---------+---------+\n",
      "|symbol| tick_date|     open|     id|   open_1|   open_2|   open_3|   open_4|\n",
      "+------+----------+---------+-------+---------+---------+---------+---------+\n",
      "|    AA|2019-01-08|    28.73|1019281|28.530001|    26.84|26.120001|   25.955|\n",
      "|    AA|2019-01-09|     28.6|1019282|    28.73|28.530001|    26.84|26.120001|\n",
      "|    AA|2019-01-10|28.690001|1019283|     28.6|    28.73|28.530001|    26.84|\n",
      "+------+----------+---------+-------+---------+---------+---------+---------+\n",
      "only showing top 3 rows\n",
      "\n"
     ]
    },
    {
     "name": "stderr",
     "output_type": "stream",
     "text": [
      "                                                                                \r"
     ]
    }
   ],
   "source": [
    "training.show(n=3)"
   ]
  },
  {
   "cell_type": "code",
   "execution_count": 46,
   "metadata": {},
   "outputs": [
    {
     "name": "stdout",
     "output_type": "stream",
     "text": [
      "22/11/23 16:31:32 WARN CSVHeaderChecker: CSV header does not conform to the schema.\n",
      " Header: , symbol, date, open\n",
      " Schema: _c0, symbol, date, open\n",
      "Expected: _c0 but found: \n",
      "CSV file: file:///Users/husnusensoy/Documents/code/python-training-2910/week5/data/stocks_price_final.csv\n"
     ]
    },
    {
     "name": "stderr",
     "output_type": "stream",
     "text": [
      "[Stage 58:====>                                                   (1 + 11) / 12]\r"
     ]
    },
    {
     "name": "stdout",
     "output_type": "stream",
     "text": [
      "+------+----------+-----+-------+------+------+------+------+\n",
      "|symbol| tick_date| open|     id|open_1|open_2|open_3|open_4|\n",
      "+------+----------+-----+-------+------+------+------+------+\n",
      "|    AA|2020-07-02|11.26|1019655| 11.18| 10.84| 11.04| 11.61|\n",
      "|    AA|2020-07-06|11.35|1019656| 11.26| 11.18| 10.84| 11.04|\n",
      "|    AA|2020-07-07|11.23|1019657| 11.35| 11.26| 11.18| 10.84|\n",
      "+------+----------+-----+-------+------+------+------+------+\n",
      "only showing top 3 rows\n",
      "\n"
     ]
    },
    {
     "name": "stderr",
     "output_type": "stream",
     "text": [
      "                                                                                \r"
     ]
    }
   ],
   "source": [
    "test.show(n=3)"
   ]
  },
  {
   "cell_type": "code",
   "execution_count": 47,
   "metadata": {},
   "outputs": [],
   "source": [
    "from pyspark.ml.feature import VectorAssembler\n",
    "\n",
    "va = VectorAssembler(inputCols=[\"open_1\",\"open_2\",\"open_3\",\"open_4\"], outputCol=\"vhist\")"
   ]
  },
  {
   "cell_type": "code",
   "execution_count": 51,
   "metadata": {},
   "outputs": [
    {
     "name": "stdout",
     "output_type": "stream",
     "text": [
      "root\n",
      " |-- symbol: string (nullable = true)\n",
      " |-- tick_date: date (nullable = true)\n",
      " |-- open: double (nullable = true)\n",
      " |-- id: integer (nullable = true)\n",
      " |-- open_1: double (nullable = true)\n",
      " |-- open_2: double (nullable = true)\n",
      " |-- open_3: double (nullable = true)\n",
      " |-- open_4: double (nullable = true)\n",
      " |-- vhist: vector (nullable = true)\n",
      "\n"
     ]
    }
   ],
   "source": [
    "va.transform(training).printSchema()"
   ]
  },
  {
   "cell_type": "code",
   "execution_count": 52,
   "metadata": {},
   "outputs": [],
   "source": [
    "from pyspark.ml.regression import LinearRegression"
   ]
  },
  {
   "cell_type": "code",
   "execution_count": 53,
   "metadata": {},
   "outputs": [],
   "source": [
    "lr = LinearRegression(featuresCol=\"vhist\",labelCol=\"open\",predictionCol=\"open_pred\")"
   ]
  },
  {
   "cell_type": "code",
   "execution_count": 54,
   "metadata": {},
   "outputs": [
    {
     "name": "stdout",
     "output_type": "stream",
     "text": [
      "22/11/23 16:35:53 WARN CSVHeaderChecker: CSV header does not conform to the schema.\n",
      " Header: , symbol, date, open\n",
      " Schema: _c0, symbol, date, open\n",
      "Expected: _c0 but found: \n",
      "CSV file: file:///Users/husnusensoy/Documents/code/python-training-2910/week5/data/stocks_price_final.csv\n"
     ]
    },
    {
     "name": "stderr",
     "output_type": "stream",
     "text": [
      "[Stage 64:==========================================>              (9 + 3) / 12]\r"
     ]
    },
    {
     "name": "stdout",
     "output_type": "stream",
     "text": [
      "22/11/23 16:35:55 WARN CSVHeaderChecker: CSV header does not conform to the schema.\n",
      " Header: , symbol, date, open\n",
      " Schema: _c0, symbol, date, open\n",
      "Expected: _c0 but found: \n",
      "CSV file: file:///Users/husnusensoy/Documents/code/python-training-2910/week5/data/stocks_price_final.csv\n"
     ]
    },
    {
     "name": "stderr",
     "output_type": "stream",
     "text": [
      "[Stage 65:==============>                                          (3 + 9) / 12]\r"
     ]
    },
    {
     "name": "stdout",
     "output_type": "stream",
     "text": [
      "22/11/23 16:35:57 WARN Instrumentation: [7ecef2e6] regParam is zero, which might cause numerical instability and overfitting.\n",
      "22/11/23 16:35:58 WARN InstanceBuilder$NativeBLAS: Failed to load implementation from:dev.ludovic.netlib.blas.JNIBLAS\n",
      "22/11/23 16:35:58 WARN InstanceBuilder$NativeBLAS: Failed to load implementation from:dev.ludovic.netlib.blas.ForeignLinkerBLAS\n"
     ]
    },
    {
     "name": "stderr",
     "output_type": "stream",
     "text": [
      "                                                                                \r"
     ]
    },
    {
     "name": "stdout",
     "output_type": "stream",
     "text": [
      "22/11/23 16:36:00 WARN InstanceBuilder$NativeLAPACK: Failed to load implementation from:dev.ludovic.netlib.lapack.JNILAPACK\n",
      "22/11/23 16:36:01 WARN CSVHeaderChecker: CSV header does not conform to the schema.\n",
      " Header: , symbol, date, open\n",
      " Schema: _c0, symbol, date, open\n",
      "Expected: _c0 but found: \n",
      "CSV file: file:///Users/husnusensoy/Documents/code/python-training-2910/week5/data/stocks_price_final.csv\n"
     ]
    },
    {
     "name": "stderr",
     "output_type": "stream",
     "text": [
      "                                                                                \r"
     ]
    }
   ],
   "source": [
    "lrModel = lr.fit(va.transform(training))"
   ]
  },
  {
   "cell_type": "code",
   "execution_count": 58,
   "metadata": {},
   "outputs": [
    {
     "name": "stderr",
     "output_type": "stream",
     "text": [
      "/Users/husnusensoy/miniconda39/envs/python-training38/lib/python3.8/site-packages/pyspark/sql/dataframe.py:229: FutureWarning: Deprecated in 2.0, use createOrReplaceTempView instead.\n",
      "  warnings.warn(\"Deprecated in 2.0, use createOrReplaceTempView instead.\", FutureWarning)\n"
     ]
    }
   ],
   "source": [
    "lrModel.transform(va.transform(test)).registerTempTable(\"for_scoring\")"
   ]
  },
  {
   "cell_type": "code",
   "execution_count": 63,
   "metadata": {},
   "outputs": [
    {
     "name": "stdout",
     "output_type": "stream",
     "text": [
      "22/11/23 16:41:19 WARN CSVHeaderChecker: CSV header does not conform to the schema.\n",
      " Header: , symbol, date, open\n",
      " Schema: _c0, symbol, date, open\n",
      "Expected: _c0 but found: \n",
      "CSV file: file:///Users/husnusensoy/Documents/code/python-training-2910/week5/data/stocks_price_final.csv\n"
     ]
    },
    {
     "name": "stderr",
     "output_type": "stream",
     "text": [
      "                                                                                \r"
     ]
    }
   ],
   "source": [
    "evaluation = spark.sql(\"\"\"\n",
    "select symbol, mean(abs(open-open_pred)) mae,  sqrt(mean(power((open-open_pred),2))) as rmse,count(1) as n\n",
    "from for_scoring \n",
    "group by symbol order by 2 desc\n",
    "\"\"\").toPandas()"
   ]
  },
  {
   "cell_type": "code",
   "execution_count": 64,
   "metadata": {},
   "outputs": [
    {
     "data": {
      "text/html": [
       "<div>\n",
       "<style scoped>\n",
       "    .dataframe tbody tr th:only-of-type {\n",
       "        vertical-align: middle;\n",
       "    }\n",
       "\n",
       "    .dataframe tbody tr th {\n",
       "        vertical-align: top;\n",
       "    }\n",
       "\n",
       "    .dataframe thead th {\n",
       "        text-align: right;\n",
       "    }\n",
       "</style>\n",
       "<table border=\"1\" class=\"dataframe\">\n",
       "  <thead>\n",
       "    <tr style=\"text-align: right;\">\n",
       "      <th></th>\n",
       "      <th>symbol</th>\n",
       "      <th>mae</th>\n",
       "      <th>rmse</th>\n",
       "      <th>n</th>\n",
       "    </tr>\n",
       "  </thead>\n",
       "  <tbody>\n",
       "    <tr>\n",
       "      <th>0</th>\n",
       "      <td>AMZN</td>\n",
       "      <td>80.514379</td>\n",
       "      <td>102.838418</td>\n",
       "      <td>14</td>\n",
       "    </tr>\n",
       "    <tr>\n",
       "      <th>1</th>\n",
       "      <td>TSLA</td>\n",
       "      <td>70.567375</td>\n",
       "      <td>95.830963</td>\n",
       "      <td>14</td>\n",
       "    </tr>\n",
       "    <tr>\n",
       "      <th>2</th>\n",
       "      <td>NVR</td>\n",
       "      <td>54.075017</td>\n",
       "      <td>65.911797</td>\n",
       "      <td>14</td>\n",
       "    </tr>\n",
       "    <tr>\n",
       "      <th>3</th>\n",
       "      <td>SHOP</td>\n",
       "      <td>36.647007</td>\n",
       "      <td>50.959591</td>\n",
       "      <td>14</td>\n",
       "    </tr>\n",
       "    <tr>\n",
       "      <th>4</th>\n",
       "      <td>BKNG</td>\n",
       "      <td>33.392324</td>\n",
       "      <td>39.980976</td>\n",
       "      <td>14</td>\n",
       "    </tr>\n",
       "    <tr>\n",
       "      <th>...</th>\n",
       "      <td>...</td>\n",
       "      <td>...</td>\n",
       "      <td>...</td>\n",
       "      <td>...</td>\n",
       "    </tr>\n",
       "    <tr>\n",
       "      <th>4591</th>\n",
       "      <td>APD</td>\n",
       "      <td>8.792754</td>\n",
       "      <td>9.482909</td>\n",
       "      <td>14</td>\n",
       "    </tr>\n",
       "    <tr>\n",
       "      <th>4592</th>\n",
       "      <td>MSCI</td>\n",
       "      <td>8.541996</td>\n",
       "      <td>10.931050</td>\n",
       "      <td>14</td>\n",
       "    </tr>\n",
       "    <tr>\n",
       "      <th>4593</th>\n",
       "      <td>ABMD</td>\n",
       "      <td>8.095266</td>\n",
       "      <td>9.634325</td>\n",
       "      <td>14</td>\n",
       "    </tr>\n",
       "    <tr>\n",
       "      <th>4594</th>\n",
       "      <td>TREE</td>\n",
       "      <td>8.065437</td>\n",
       "      <td>9.911585</td>\n",
       "      <td>14</td>\n",
       "    </tr>\n",
       "    <tr>\n",
       "      <th>4595</th>\n",
       "      <td>CHTR</td>\n",
       "      <td>7.630186</td>\n",
       "      <td>8.996616</td>\n",
       "      <td>14</td>\n",
       "    </tr>\n",
       "  </tbody>\n",
       "</table>\n",
       "<p>4596 rows × 4 columns</p>\n",
       "</div>"
      ],
      "text/plain": [
       "     symbol        mae        rmse   n\n",
       "0      AMZN  80.514379  102.838418  14\n",
       "1      TSLA  70.567375   95.830963  14\n",
       "2       NVR  54.075017   65.911797  14\n",
       "3      SHOP  36.647007   50.959591  14\n",
       "4      BKNG  33.392324   39.980976  14\n",
       "...     ...        ...         ...  ..\n",
       "4591    APD   8.792754    9.482909  14\n",
       "4592   MSCI   8.541996   10.931050  14\n",
       "4593   ABMD   8.095266    9.634325  14\n",
       "4594   TREE   8.065437    9.911585  14\n",
       "4595   CHTR   7.630186    8.996616  14\n",
       "\n",
       "[4596 rows x 4 columns]"
      ]
     },
     "execution_count": 64,
     "metadata": {},
     "output_type": "execute_result"
    }
   ],
   "source": [
    "evaluation"
   ]
  },
  {
   "cell_type": "code",
   "execution_count": null,
   "metadata": {},
   "outputs": [],
   "source": []
  }
 ],
 "metadata": {
  "kernelspec": {
   "display_name": "Python 3.8.13",
   "language": "python",
   "name": "python3"
  },
  "language_info": {
   "codemirror_mode": {
    "name": "ipython",
    "version": 3
   },
   "file_extension": ".py",
   "mimetype": "text/x-python",
   "name": "python",
   "nbconvert_exporter": "python",
   "pygments_lexer": "ipython3",
   "version": "3.8.13"
  },
  "orig_nbformat": 4,
  "vscode": {
   "interpreter": {
    "hash": "2854a322fbd609b9a8dcd5de5b5ab87f22dbcd4c479f728c8212c13390cc84c7"
   }
  }
 },
 "nbformat": 4,
 "nbformat_minor": 2
}
